{
  "nbformat": 4,
  "nbformat_minor": 0,
  "metadata": {
    "colab": {
      "provenance": []
    },
    "kernelspec": {
      "name": "python3",
      "display_name": "Python 3"
    },
    "language_info": {
      "name": "python"
    }
  },
  "cells": [
    {
      "cell_type": "code",
      "source": [
        "import numpy as np\n",
        "import pandas as pd\n",
        "\n",
        "from sklearn.preprocessing import LabelEncoder\n",
        "from sklearn.preprocessing import StandardScaler\n",
        "\n",
        "from sklearn.feature_selection import mutual_info_classif\n",
        "\n",
        "from sklearn.metrics import accuracy_score, classification_report\n",
        "\n",
        "\n",
        "from sklearn.linear_model import LogisticRegression\n",
        "from sklearn.naive_bayes import GaussianNB\n",
        "from sklearn.ensemble import RandomForestClassifier, VotingClassifier\n",
        "from sklearn.tree import DecisionTreeClassifier\n",
        "from xgboost import XGBClassifier\n",
        "from sklearn.neighbors import KNeighborsClassifier\n",
        "from sklearn.svm import SVC\n",
        "\n",
        "from imblearn.over_sampling import RandomOverSampler\n",
        "from imblearn.under_sampling import RandomUnderSampler"
      ],
      "metadata": {
        "id": "k6ZDUAazTWnI"
      },
      "execution_count": null,
      "outputs": []
    },
    {
      "cell_type": "code",
      "source": [
        "from google.colab import drive\n",
        "drive.mount('/content/drive')"
      ],
      "metadata": {
        "colab": {
          "base_uri": "https://localhost:8080/"
        },
        "id": "hBbP1aJ60fnX",
        "outputId": "414da4d7-46e2-4ba2-ab55-dd4239c06c57"
      },
      "execution_count": null,
      "outputs": [
        {
          "output_type": "stream",
          "name": "stdout",
          "text": [
            "Mounted at /content/drive\n"
          ]
        }
      ]
    },
    {
      "cell_type": "code",
      "source": [
        "data = pd.read_csv('/content/drive/MyDrive/finaldataframe.csv')\n",
        "data.drop(index=0, inplace=True)\n",
        "data.drop(inplace=True, columns = 'Unnamed: 0')\n"
      ],
      "metadata": {
        "id": "Zhvpg0EkTpVX",
        "colab": {
          "base_uri": "https://localhost:8080/"
        },
        "outputId": "b059149b-32db-4842-e8ce-f1c62599546a"
      },
      "execution_count": null,
      "outputs": [
        {
          "output_type": "stream",
          "name": "stderr",
          "text": [
            "/usr/local/lib/python3.8/dist-packages/IPython/core/interactiveshell.py:3326: DtypeWarning: Columns (1,3,4,7,8,9,10,11,12) have mixed types.Specify dtype option on import or set low_memory=False.\n",
            "  exec(code_obj, self.user_global_ns, self.user_ns)\n"
          ]
        }
      ]
    },
    {
      "cell_type": "code",
      "source": [
        "data.head()"
      ],
      "metadata": {
        "colab": {
          "base_uri": "https://localhost:8080/",
          "height": 372
        },
        "id": "1iGImliLD44g",
        "outputId": "94f2b46d-bc8a-4c9c-ef52-01e93e1f8384"
      },
      "execution_count": null,
      "outputs": [
        {
          "output_type": "execute_result",
          "data": {
            "text/plain": [
              "  Employee Code Machine Production Order Operation No                 Date  \\\n",
              "1        382617  TWLD23  E15002965                240  2022-09-10 00:00:00   \n",
              "2        382617  TWLD23  E15002965                240  2022-09-10 00:00:00   \n",
              "3        382617  TWLD23  E15002965                240  2022-09-10 00:00:00   \n",
              "4        382617  TWLD23  E15002965                240  2022-09-10 00:00:00   \n",
              "5        382617  TWLD23  E15002965                240  2022-09-10 00:00:00   \n",
              "\n",
              "          Time           Current Humidity Temperature  Flow Job Temp Voltage  \\\n",
              "1  7:32:28:527              1.13       74          23  0.01     29.3    15.2   \n",
              "2   7:32:29:40  1.81999999999999       74          23     0     29.3       0   \n",
              "3  7:32:29:677              2.91       74          23     0     29.3       0   \n",
              "4  7:32:30:166              0.04       74          23     0     29.3       0   \n",
              "5  7:32:30:696              2.51       74          23     0     27.8       0   \n",
              "\n",
              "               Defect  \n",
              "1           No Defect  \n",
              "2  Tungsten Inclusion  \n",
              "3           No Defect  \n",
              "4           No Defect  \n",
              "5           No Defect  "
            ],
            "text/html": [
              "\n",
              "  <div id=\"df-9b5e0542-641c-457a-b388-9d47f2ffc5e2\">\n",
              "    <div class=\"colab-df-container\">\n",
              "      <div>\n",
              "<style scoped>\n",
              "    .dataframe tbody tr th:only-of-type {\n",
              "        vertical-align: middle;\n",
              "    }\n",
              "\n",
              "    .dataframe tbody tr th {\n",
              "        vertical-align: top;\n",
              "    }\n",
              "\n",
              "    .dataframe thead th {\n",
              "        text-align: right;\n",
              "    }\n",
              "</style>\n",
              "<table border=\"1\" class=\"dataframe\">\n",
              "  <thead>\n",
              "    <tr style=\"text-align: right;\">\n",
              "      <th></th>\n",
              "      <th>Employee Code</th>\n",
              "      <th>Machine</th>\n",
              "      <th>Production</th>\n",
              "      <th>Order Operation No</th>\n",
              "      <th>Date</th>\n",
              "      <th>Time</th>\n",
              "      <th>Current</th>\n",
              "      <th>Humidity</th>\n",
              "      <th>Temperature</th>\n",
              "      <th>Flow</th>\n",
              "      <th>Job Temp</th>\n",
              "      <th>Voltage</th>\n",
              "      <th>Defect</th>\n",
              "    </tr>\n",
              "  </thead>\n",
              "  <tbody>\n",
              "    <tr>\n",
              "      <th>1</th>\n",
              "      <td>382617</td>\n",
              "      <td>TWLD23</td>\n",
              "      <td>E15002965</td>\n",
              "      <td>240</td>\n",
              "      <td>2022-09-10 00:00:00</td>\n",
              "      <td>7:32:28:527</td>\n",
              "      <td>1.13</td>\n",
              "      <td>74</td>\n",
              "      <td>23</td>\n",
              "      <td>0.01</td>\n",
              "      <td>29.3</td>\n",
              "      <td>15.2</td>\n",
              "      <td>No Defect</td>\n",
              "    </tr>\n",
              "    <tr>\n",
              "      <th>2</th>\n",
              "      <td>382617</td>\n",
              "      <td>TWLD23</td>\n",
              "      <td>E15002965</td>\n",
              "      <td>240</td>\n",
              "      <td>2022-09-10 00:00:00</td>\n",
              "      <td>7:32:29:40</td>\n",
              "      <td>1.81999999999999</td>\n",
              "      <td>74</td>\n",
              "      <td>23</td>\n",
              "      <td>0</td>\n",
              "      <td>29.3</td>\n",
              "      <td>0</td>\n",
              "      <td>Tungsten Inclusion</td>\n",
              "    </tr>\n",
              "    <tr>\n",
              "      <th>3</th>\n",
              "      <td>382617</td>\n",
              "      <td>TWLD23</td>\n",
              "      <td>E15002965</td>\n",
              "      <td>240</td>\n",
              "      <td>2022-09-10 00:00:00</td>\n",
              "      <td>7:32:29:677</td>\n",
              "      <td>2.91</td>\n",
              "      <td>74</td>\n",
              "      <td>23</td>\n",
              "      <td>0</td>\n",
              "      <td>29.3</td>\n",
              "      <td>0</td>\n",
              "      <td>No Defect</td>\n",
              "    </tr>\n",
              "    <tr>\n",
              "      <th>4</th>\n",
              "      <td>382617</td>\n",
              "      <td>TWLD23</td>\n",
              "      <td>E15002965</td>\n",
              "      <td>240</td>\n",
              "      <td>2022-09-10 00:00:00</td>\n",
              "      <td>7:32:30:166</td>\n",
              "      <td>0.04</td>\n",
              "      <td>74</td>\n",
              "      <td>23</td>\n",
              "      <td>0</td>\n",
              "      <td>29.3</td>\n",
              "      <td>0</td>\n",
              "      <td>No Defect</td>\n",
              "    </tr>\n",
              "    <tr>\n",
              "      <th>5</th>\n",
              "      <td>382617</td>\n",
              "      <td>TWLD23</td>\n",
              "      <td>E15002965</td>\n",
              "      <td>240</td>\n",
              "      <td>2022-09-10 00:00:00</td>\n",
              "      <td>7:32:30:696</td>\n",
              "      <td>2.51</td>\n",
              "      <td>74</td>\n",
              "      <td>23</td>\n",
              "      <td>0</td>\n",
              "      <td>27.8</td>\n",
              "      <td>0</td>\n",
              "      <td>No Defect</td>\n",
              "    </tr>\n",
              "  </tbody>\n",
              "</table>\n",
              "</div>\n",
              "      <button class=\"colab-df-convert\" onclick=\"convertToInteractive('df-9b5e0542-641c-457a-b388-9d47f2ffc5e2')\"\n",
              "              title=\"Convert this dataframe to an interactive table.\"\n",
              "              style=\"display:none;\">\n",
              "        \n",
              "  <svg xmlns=\"http://www.w3.org/2000/svg\" height=\"24px\"viewBox=\"0 0 24 24\"\n",
              "       width=\"24px\">\n",
              "    <path d=\"M0 0h24v24H0V0z\" fill=\"none\"/>\n",
              "    <path d=\"M18.56 5.44l.94 2.06.94-2.06 2.06-.94-2.06-.94-.94-2.06-.94 2.06-2.06.94zm-11 1L8.5 8.5l.94-2.06 2.06-.94-2.06-.94L8.5 2.5l-.94 2.06-2.06.94zm10 10l.94 2.06.94-2.06 2.06-.94-2.06-.94-.94-2.06-.94 2.06-2.06.94z\"/><path d=\"M17.41 7.96l-1.37-1.37c-.4-.4-.92-.59-1.43-.59-.52 0-1.04.2-1.43.59L10.3 9.45l-7.72 7.72c-.78.78-.78 2.05 0 2.83L4 21.41c.39.39.9.59 1.41.59.51 0 1.02-.2 1.41-.59l7.78-7.78 2.81-2.81c.8-.78.8-2.07 0-2.86zM5.41 20L4 18.59l7.72-7.72 1.47 1.35L5.41 20z\"/>\n",
              "  </svg>\n",
              "      </button>\n",
              "      \n",
              "  <style>\n",
              "    .colab-df-container {\n",
              "      display:flex;\n",
              "      flex-wrap:wrap;\n",
              "      gap: 12px;\n",
              "    }\n",
              "\n",
              "    .colab-df-convert {\n",
              "      background-color: #E8F0FE;\n",
              "      border: none;\n",
              "      border-radius: 50%;\n",
              "      cursor: pointer;\n",
              "      display: none;\n",
              "      fill: #1967D2;\n",
              "      height: 32px;\n",
              "      padding: 0 0 0 0;\n",
              "      width: 32px;\n",
              "    }\n",
              "\n",
              "    .colab-df-convert:hover {\n",
              "      background-color: #E2EBFA;\n",
              "      box-shadow: 0px 1px 2px rgba(60, 64, 67, 0.3), 0px 1px 3px 1px rgba(60, 64, 67, 0.15);\n",
              "      fill: #174EA6;\n",
              "    }\n",
              "\n",
              "    [theme=dark] .colab-df-convert {\n",
              "      background-color: #3B4455;\n",
              "      fill: #D2E3FC;\n",
              "    }\n",
              "\n",
              "    [theme=dark] .colab-df-convert:hover {\n",
              "      background-color: #434B5C;\n",
              "      box-shadow: 0px 1px 3px 1px rgba(0, 0, 0, 0.15);\n",
              "      filter: drop-shadow(0px 1px 2px rgba(0, 0, 0, 0.3));\n",
              "      fill: #FFFFFF;\n",
              "    }\n",
              "  </style>\n",
              "\n",
              "      <script>\n",
              "        const buttonEl =\n",
              "          document.querySelector('#df-9b5e0542-641c-457a-b388-9d47f2ffc5e2 button.colab-df-convert');\n",
              "        buttonEl.style.display =\n",
              "          google.colab.kernel.accessAllowed ? 'block' : 'none';\n",
              "\n",
              "        async function convertToInteractive(key) {\n",
              "          const element = document.querySelector('#df-9b5e0542-641c-457a-b388-9d47f2ffc5e2');\n",
              "          const dataTable =\n",
              "            await google.colab.kernel.invokeFunction('convertToInteractive',\n",
              "                                                     [key], {});\n",
              "          if (!dataTable) return;\n",
              "\n",
              "          const docLinkHtml = 'Like what you see? Visit the ' +\n",
              "            '<a target=\"_blank\" href=https://colab.research.google.com/notebooks/data_table.ipynb>data table notebook</a>'\n",
              "            + ' to learn more about interactive tables.';\n",
              "          element.innerHTML = '';\n",
              "          dataTable['output_type'] = 'display_data';\n",
              "          await google.colab.output.renderOutput(dataTable, element);\n",
              "          const docLink = document.createElement('div');\n",
              "          docLink.innerHTML = docLinkHtml;\n",
              "          element.appendChild(docLink);\n",
              "        }\n",
              "      </script>\n",
              "    </div>\n",
              "  </div>\n",
              "  "
            ]
          },
          "metadata": {},
          "execution_count": 4
        }
      ]
    },
    {
      "cell_type": "code",
      "source": [
        "data.info()"
      ],
      "metadata": {
        "colab": {
          "base_uri": "https://localhost:8080/"
        },
        "id": "jn5ogZaZEGVc",
        "outputId": "71a42a59-7e58-4af6-fc67-576682268bef"
      },
      "execution_count": null,
      "outputs": [
        {
          "output_type": "stream",
          "name": "stdout",
          "text": [
            "<class 'pandas.core.frame.DataFrame'>\n",
            "Int64Index: 827534 entries, 1 to 827534\n",
            "Data columns (total 13 columns):\n",
            " #   Column              Non-Null Count   Dtype \n",
            "---  ------              --------------   ----- \n",
            " 0   Employee Code       827534 non-null  object\n",
            " 1   Machine             827534 non-null  object\n",
            " 2   Production          549354 non-null  object\n",
            " 3   Order Operation No  827534 non-null  object\n",
            " 4   Date                827534 non-null  object\n",
            " 5   Time                827534 non-null  object\n",
            " 6   Current             827531 non-null  object\n",
            " 7   Humidity            827534 non-null  object\n",
            " 8   Temperature         827534 non-null  object\n",
            " 9   Flow                827534 non-null  object\n",
            " 10  Job Temp            827534 non-null  object\n",
            " 11  Voltage             827534 non-null  object\n",
            " 12  Defect              827534 non-null  object\n",
            "dtypes: object(13)\n",
            "memory usage: 88.4+ MB\n"
          ]
        }
      ]
    },
    {
      "cell_type": "code",
      "source": [
        "data.isnull().sum()"
      ],
      "metadata": {
        "colab": {
          "base_uri": "https://localhost:8080/"
        },
        "id": "F3YcuyAGEIK0",
        "outputId": "3d0e18e1-b9b5-4a09-a034-3237b82d8c37"
      },
      "execution_count": null,
      "outputs": [
        {
          "output_type": "execute_result",
          "data": {
            "text/plain": [
              "Employee Code              0\n",
              "Machine                    0\n",
              "Production            278180\n",
              "Order Operation No         0\n",
              "Date                       0\n",
              "Time                       0\n",
              "Current                    3\n",
              "Humidity                   0\n",
              "Temperature                0\n",
              "Flow                       0\n",
              "Job Temp                   0\n",
              "Voltage                    0\n",
              "Defect                     0\n",
              "dtype: int64"
            ]
          },
          "metadata": {},
          "execution_count": 6
        }
      ]
    },
    {
      "cell_type": "code",
      "source": [
        "cols = ['Employee Code', 'Production', 'Order Operation No', 'Defect', 'Machine']\n",
        "\n",
        "for col in cols:\n",
        "  print(col, data[col].nunique())\n"
      ],
      "metadata": {
        "colab": {
          "base_uri": "https://localhost:8080/"
        },
        "id": "O2bQq3xSEMCA",
        "outputId": "073b6629-541f-4686-9440-3db1a30a8ea6"
      },
      "execution_count": null,
      "outputs": [
        {
          "output_type": "stream",
          "name": "stdout",
          "text": [
            "Employee Code 14\n",
            "Production 20\n",
            "Order Operation No 12\n",
            "Defect 52\n",
            "Machine 1\n"
          ]
        }
      ]
    },
    {
      "cell_type": "markdown",
      "source": [
        "## **Data Cleaning**"
      ],
      "metadata": {
        "id": "LAS7e8nR41Q9"
      }
    },
    {
      "cell_type": "markdown",
      "source": [
        "**Defect**"
      ],
      "metadata": {
        "id": "y7DXY7ypFTzI"
      }
    },
    {
      "cell_type": "code",
      "source": [
        "def conv(x):\n",
        "  if 'Defect' in x:\n",
        "    return 'No Defect'\n",
        "  elif 'Inclusion' in x:\n",
        "    return 'Tungsten Inclusion'\n",
        "  elif 'Porosity' in x:\n",
        "    return 'Porosity'\n",
        "\n",
        "data['Defect'] = data['Defect'].apply(conv)"
      ],
      "metadata": {
        "id": "7rgmLs4TEOOl"
      },
      "execution_count": null,
      "outputs": []
    },
    {
      "cell_type": "markdown",
      "source": [
        "**Employee Code**"
      ],
      "metadata": {
        "id": "o5fOizcOFQWM"
      }
    },
    {
      "cell_type": "code",
      "source": [
        "data['Employee Code'] = data['Employee Code'].apply(lambda x : str(x))\n",
        "data['Employee Code'].unique()"
      ],
      "metadata": {
        "colab": {
          "base_uri": "https://localhost:8080/"
        },
        "id": "IpNFO7D_EQTs",
        "outputId": "10c131b7-58e7-4335-ca2e-317bfb8665b3"
      },
      "execution_count": null,
      "outputs": [
        {
          "output_type": "execute_result",
          "data": {
            "text/plain": [
              "array(['382617', '391342', '97346', '0', '394965', '387268', '394365',\n",
              "       '383138', '394269'], dtype=object)"
            ]
          },
          "metadata": {},
          "execution_count": 9
        }
      ]
    },
    {
      "cell_type": "code",
      "source": [
        "data[data['Defect'] == 'Porosity']['Employee Code'].value_counts()"
      ],
      "metadata": {
        "colab": {
          "base_uri": "https://localhost:8080/"
        },
        "id": "4xw3TCZ1Egcv",
        "outputId": "dfa5f752-01ee-4563-a92d-438a82bde206"
      },
      "execution_count": null,
      "outputs": [
        {
          "output_type": "execute_result",
          "data": {
            "text/plain": [
              "391342    350\n",
              "394965    269\n",
              "97346     187\n",
              "394269    139\n",
              "0          76\n",
              "383138     46\n",
              "382617     39\n",
              "394365     29\n",
              "387268      8\n",
              "Name: Employee Code, dtype: int64"
            ]
          },
          "metadata": {},
          "execution_count": 10
        }
      ]
    },
    {
      "cell_type": "code",
      "source": [
        "data[data['Defect'] == 'Tungsten Inclusion']['Employee Code'].value_counts()"
      ],
      "metadata": {
        "colab": {
          "base_uri": "https://localhost:8080/"
        },
        "id": "FAw9Di2wEjUi",
        "outputId": "c76866aa-41f9-42a9-b6e5-5e145bf5ea66"
      },
      "execution_count": null,
      "outputs": [
        {
          "output_type": "execute_result",
          "data": {
            "text/plain": [
              "391342    1503\n",
              "394965    1250\n",
              "97346      674\n",
              "394269     674\n",
              "382617     326\n",
              "394365     153\n",
              "387268      16\n",
              "383138      10\n",
              "0            4\n",
              "Name: Employee Code, dtype: int64"
            ]
          },
          "metadata": {},
          "execution_count": 11
        }
      ]
    },
    {
      "cell_type": "code",
      "source": [
        "data[data['Defect'] == 'No Defect']['Employee Code'].value_counts()"
      ],
      "metadata": {
        "colab": {
          "base_uri": "https://localhost:8080/"
        },
        "id": "R09cjlTJEk_E",
        "outputId": "057a4575-ff75-47c6-e245-8c06e5921832"
      },
      "execution_count": null,
      "outputs": [
        {
          "output_type": "execute_result",
          "data": {
            "text/plain": [
              "391342    255031\n",
              "394965    173466\n",
              "97346     116565\n",
              "394269    114008\n",
              "0          66740\n",
              "382617     36400\n",
              "383138     27239\n",
              "394365     23740\n",
              "387268      8592\n",
              "Name: Employee Code, dtype: int64"
            ]
          },
          "metadata": {},
          "execution_count": 12
        }
      ]
    },
    {
      "cell_type": "markdown",
      "source": [
        "**Dropping 'Machine' column as it is single valued**"
      ],
      "metadata": {
        "id": "ILHk9M6OEpcS"
      }
    },
    {
      "cell_type": "code",
      "source": [
        "data.drop(columns=['Machine'], inplace=True)"
      ],
      "metadata": {
        "id": "ntE4TCK9EmY9"
      },
      "execution_count": null,
      "outputs": []
    },
    {
      "cell_type": "markdown",
      "source": [
        "**Production**"
      ],
      "metadata": {
        "id": "wBEEYAAcFbbe"
      }
    },
    {
      "cell_type": "code",
      "source": [
        "data['Production'].unique()"
      ],
      "metadata": {
        "colab": {
          "base_uri": "https://localhost:8080/"
        },
        "id": "D-rCMr84EovR",
        "outputId": "c8b6bdf1-f3a0-4408-e85c-4a397335cec9"
      },
      "execution_count": null,
      "outputs": [
        {
          "output_type": "execute_result",
          "data": {
            "text/plain": [
              "array(['E15002965', 'E15002966', nan, '-', '15003062', 'E15003220',\n",
              "       'E15002881', 'E10002436', 'E50006711', 'E15003200', 'E15003202',\n",
              "       'E15003056', 'E15002963', 'E10002437', 'E15003219', 'E15003201',\n",
              "       'Test coopan', '-15003217', -15003217, -150033027, 15003062],\n",
              "      dtype=object)"
            ]
          },
          "metadata": {},
          "execution_count": 14
        }
      ]
    },
    {
      "cell_type": "code",
      "source": [
        "data[data['Production'] == '-']['Defect'].unique()"
      ],
      "metadata": {
        "colab": {
          "base_uri": "https://localhost:8080/"
        },
        "id": "OaRqUIsVFg52",
        "outputId": "087e171d-e564-40c4-f951-d7f2e105dfc3"
      },
      "execution_count": null,
      "outputs": [
        {
          "output_type": "execute_result",
          "data": {
            "text/plain": [
              "array(['No Defect'], dtype=object)"
            ]
          },
          "metadata": {},
          "execution_count": 15
        }
      ]
    },
    {
      "cell_type": "markdown",
      "source": [
        "Production '-' contributes to 'No Defect' only\n"
      ],
      "metadata": {
        "id": "Zuz-ernlFjt6"
      }
    },
    {
      "cell_type": "code",
      "source": [
        "d1 = data[data['Production'] == '-'].index\n",
        "data.drop(index = d1, inplace=True)"
      ],
      "metadata": {
        "id": "bZbpt9E1Fiun"
      },
      "execution_count": null,
      "outputs": []
    },
    {
      "cell_type": "code",
      "source": [
        "def econv(x):\n",
        "  x = str(x)\n",
        "  if 'E' == x[0]:\n",
        "    return x\n",
        "  elif x == 'Test coopan' or x == '0':\n",
        "    return x \n",
        "  else:\n",
        "    if x[0] == '-':\n",
        "      s = 'E'+x[1:]\n",
        "      return str(s)\n",
        "    else:\n",
        "      s = 'E'+x\n",
        "      return str(s)\n",
        "\n",
        "data[\"Production\"] = data['Production'].apply(econv)"
      ],
      "metadata": {
        "id": "mFPacesnFuHl"
      },
      "execution_count": null,
      "outputs": []
    },
    {
      "cell_type": "code",
      "source": [
        "data['Production'].isnull().sum()"
      ],
      "metadata": {
        "colab": {
          "base_uri": "https://localhost:8080/"
        },
        "id": "uwh0DTbKFzyG",
        "outputId": "8a264bd0-1bbf-401a-ae9e-2989a814d37f"
      },
      "execution_count": null,
      "outputs": [
        {
          "output_type": "execute_result",
          "data": {
            "text/plain": [
              "0"
            ]
          },
          "metadata": {},
          "execution_count": 18
        }
      ]
    },
    {
      "cell_type": "markdown",
      "source": [
        "**Order Operation No**"
      ],
      "metadata": {
        "id": "6qOts-nNF7xI"
      }
    },
    {
      "cell_type": "code",
      "source": [
        "def conv(x):\n",
        "  if x == '-240':\n",
        "    return str(240)\n",
        "  elif x == '180-':\n",
        "    return str(180)\n",
        "  else:\n",
        "    return str(x)\n",
        "data['Order'] = data['Order Operation No'].apply(conv)"
      ],
      "metadata": {
        "id": "um6rKZPDF-yh"
      },
      "execution_count": null,
      "outputs": []
    },
    {
      "cell_type": "code",
      "source": [
        "data['Order'].nunique()"
      ],
      "metadata": {
        "colab": {
          "base_uri": "https://localhost:8080/"
        },
        "id": "mRFH0BaBGfGx",
        "outputId": "bf567513-30dc-40db-a327-e33328bb483d"
      },
      "execution_count": null,
      "outputs": [
        {
          "output_type": "execute_result",
          "data": {
            "text/plain": [
              "6"
            ]
          },
          "metadata": {},
          "execution_count": 20
        }
      ]
    },
    {
      "cell_type": "code",
      "source": [
        "data.drop(columns='Order Operation No', inplace=True)\n",
        "data.columns\n",
        "data.info()"
      ],
      "metadata": {
        "colab": {
          "base_uri": "https://localhost:8080/"
        },
        "id": "l-xPEvovGg4z",
        "outputId": "59e06c14-e5a8-4d9c-ab6e-3adfad24875a"
      },
      "execution_count": null,
      "outputs": [
        {
          "output_type": "stream",
          "name": "stdout",
          "text": [
            "<class 'pandas.core.frame.DataFrame'>\n",
            "Int64Index: 826794 entries, 1 to 827534\n",
            "Data columns (total 12 columns):\n",
            " #   Column         Non-Null Count   Dtype \n",
            "---  ------         --------------   ----- \n",
            " 0   Employee Code  826794 non-null  object\n",
            " 1   Production     826794 non-null  object\n",
            " 2   Date           826794 non-null  object\n",
            " 3   Time           826794 non-null  object\n",
            " 4   Current        826791 non-null  object\n",
            " 5   Humidity       826794 non-null  object\n",
            " 6   Temperature    826794 non-null  object\n",
            " 7   Flow           826794 non-null  object\n",
            " 8   Job Temp       826794 non-null  object\n",
            " 9   Voltage        826794 non-null  object\n",
            " 10  Defect         826794 non-null  object\n",
            " 11  Order          826794 non-null  object\n",
            "dtypes: object(12)\n",
            "memory usage: 82.0+ MB\n"
          ]
        }
      ]
    },
    {
      "cell_type": "code",
      "source": [],
      "metadata": {
        "id": "3kwVpYT5Gl7z"
      },
      "execution_count": null,
      "outputs": []
    },
    {
      "cell_type": "markdown",
      "source": [
        "**change dtype**"
      ],
      "metadata": {
        "id": "SNgaXOQqGqCe"
      }
    },
    {
      "cell_type": "code",
      "source": [
        "cols = ['Current', 'Humidity', 'Temperature', 'Flow', 'Job Temp', 'Voltage']\n",
        "\n",
        "for col in cols:\n",
        "  data[col] = data[col].apply(lambda x : float(x))\n"
      ],
      "metadata": {
        "id": "Q9cIWtP7GsPA"
      },
      "execution_count": null,
      "outputs": []
    },
    {
      "cell_type": "code",
      "source": [
        "data['Current'].fillna(data['Current'].mean(), inplace=True)"
      ],
      "metadata": {
        "id": "7cWbfTG6GsqQ"
      },
      "execution_count": null,
      "outputs": []
    },
    {
      "cell_type": "code",
      "source": [],
      "metadata": {
        "id": "sIc8Xq6zGwa5"
      },
      "execution_count": null,
      "outputs": []
    },
    {
      "cell_type": "markdown",
      "source": [
        "**Date**"
      ],
      "metadata": {
        "id": "xIuJP1yoG1a3"
      }
    },
    {
      "cell_type": "code",
      "source": [
        "def dconv(x):\n",
        "  x = str(x).split(\":\")\n",
        "  return x[0]\n",
        "\n",
        "data['Time'] = data['Time'].apply(dconv)"
      ],
      "metadata": {
        "id": "q7u-bVZBG5Ep"
      },
      "execution_count": null,
      "outputs": []
    },
    {
      "cell_type": "code",
      "source": [
        "def convd(x):\n",
        "  return x[5:7]\n",
        "\n",
        "data['Month'] = data['Date'].apply(convd)\n"
      ],
      "metadata": {
        "id": "JU0PymRIG6qI"
      },
      "execution_count": null,
      "outputs": []
    },
    {
      "cell_type": "code",
      "source": [
        "\n",
        "def dconv(x):\n",
        "  return x[8:10]\n",
        "\n",
        "data[\"Day\"] = data['Date'].apply(dconv)"
      ],
      "metadata": {
        "id": "PM5m6EayG_hU"
      },
      "execution_count": null,
      "outputs": []
    },
    {
      "cell_type": "code",
      "source": [
        "def m(x):\n",
        "  return x[5:7]\n",
        "data['Month'] = data['Date'].apply(m)"
      ],
      "metadata": {
        "id": "BJ43rHOnHBRA"
      },
      "execution_count": null,
      "outputs": []
    },
    {
      "cell_type": "code",
      "source": [
        "data.head()"
      ],
      "metadata": {
        "colab": {
          "base_uri": "https://localhost:8080/",
          "height": 354
        },
        "id": "PbsUQ9I2HDBh",
        "outputId": "07d014b9-83a8-446c-d86d-ce7975442d5f"
      },
      "execution_count": null,
      "outputs": [
        {
          "output_type": "execute_result",
          "data": {
            "text/plain": [
              "  Employee Code Production                 Date Time  Current  Humidity  \\\n",
              "1        382617  E15002965  2022-09-10 00:00:00    7     1.13      74.0   \n",
              "2        382617  E15002965  2022-09-10 00:00:00    7     1.82      74.0   \n",
              "3        382617  E15002965  2022-09-10 00:00:00    7     2.91      74.0   \n",
              "4        382617  E15002965  2022-09-10 00:00:00    7     0.04      74.0   \n",
              "5        382617  E15002965  2022-09-10 00:00:00    7     2.51      74.0   \n",
              "\n",
              "   Temperature  Flow  Job Temp  Voltage              Defect Order Month Day  \n",
              "1         23.0  0.01      29.3     15.2           No Defect   240    09  10  \n",
              "2         23.0  0.00      29.3      0.0  Tungsten Inclusion   240    09  10  \n",
              "3         23.0  0.00      29.3      0.0           No Defect   240    09  10  \n",
              "4         23.0  0.00      29.3      0.0           No Defect   240    09  10  \n",
              "5         23.0  0.00      27.8      0.0           No Defect   240    09  10  "
            ],
            "text/html": [
              "\n",
              "  <div id=\"df-35379517-d014-4a1d-84bd-88b1f7606e2c\">\n",
              "    <div class=\"colab-df-container\">\n",
              "      <div>\n",
              "<style scoped>\n",
              "    .dataframe tbody tr th:only-of-type {\n",
              "        vertical-align: middle;\n",
              "    }\n",
              "\n",
              "    .dataframe tbody tr th {\n",
              "        vertical-align: top;\n",
              "    }\n",
              "\n",
              "    .dataframe thead th {\n",
              "        text-align: right;\n",
              "    }\n",
              "</style>\n",
              "<table border=\"1\" class=\"dataframe\">\n",
              "  <thead>\n",
              "    <tr style=\"text-align: right;\">\n",
              "      <th></th>\n",
              "      <th>Employee Code</th>\n",
              "      <th>Production</th>\n",
              "      <th>Date</th>\n",
              "      <th>Time</th>\n",
              "      <th>Current</th>\n",
              "      <th>Humidity</th>\n",
              "      <th>Temperature</th>\n",
              "      <th>Flow</th>\n",
              "      <th>Job Temp</th>\n",
              "      <th>Voltage</th>\n",
              "      <th>Defect</th>\n",
              "      <th>Order</th>\n",
              "      <th>Month</th>\n",
              "      <th>Day</th>\n",
              "    </tr>\n",
              "  </thead>\n",
              "  <tbody>\n",
              "    <tr>\n",
              "      <th>1</th>\n",
              "      <td>382617</td>\n",
              "      <td>E15002965</td>\n",
              "      <td>2022-09-10 00:00:00</td>\n",
              "      <td>7</td>\n",
              "      <td>1.13</td>\n",
              "      <td>74.0</td>\n",
              "      <td>23.0</td>\n",
              "      <td>0.01</td>\n",
              "      <td>29.3</td>\n",
              "      <td>15.2</td>\n",
              "      <td>No Defect</td>\n",
              "      <td>240</td>\n",
              "      <td>09</td>\n",
              "      <td>10</td>\n",
              "    </tr>\n",
              "    <tr>\n",
              "      <th>2</th>\n",
              "      <td>382617</td>\n",
              "      <td>E15002965</td>\n",
              "      <td>2022-09-10 00:00:00</td>\n",
              "      <td>7</td>\n",
              "      <td>1.82</td>\n",
              "      <td>74.0</td>\n",
              "      <td>23.0</td>\n",
              "      <td>0.00</td>\n",
              "      <td>29.3</td>\n",
              "      <td>0.0</td>\n",
              "      <td>Tungsten Inclusion</td>\n",
              "      <td>240</td>\n",
              "      <td>09</td>\n",
              "      <td>10</td>\n",
              "    </tr>\n",
              "    <tr>\n",
              "      <th>3</th>\n",
              "      <td>382617</td>\n",
              "      <td>E15002965</td>\n",
              "      <td>2022-09-10 00:00:00</td>\n",
              "      <td>7</td>\n",
              "      <td>2.91</td>\n",
              "      <td>74.0</td>\n",
              "      <td>23.0</td>\n",
              "      <td>0.00</td>\n",
              "      <td>29.3</td>\n",
              "      <td>0.0</td>\n",
              "      <td>No Defect</td>\n",
              "      <td>240</td>\n",
              "      <td>09</td>\n",
              "      <td>10</td>\n",
              "    </tr>\n",
              "    <tr>\n",
              "      <th>4</th>\n",
              "      <td>382617</td>\n",
              "      <td>E15002965</td>\n",
              "      <td>2022-09-10 00:00:00</td>\n",
              "      <td>7</td>\n",
              "      <td>0.04</td>\n",
              "      <td>74.0</td>\n",
              "      <td>23.0</td>\n",
              "      <td>0.00</td>\n",
              "      <td>29.3</td>\n",
              "      <td>0.0</td>\n",
              "      <td>No Defect</td>\n",
              "      <td>240</td>\n",
              "      <td>09</td>\n",
              "      <td>10</td>\n",
              "    </tr>\n",
              "    <tr>\n",
              "      <th>5</th>\n",
              "      <td>382617</td>\n",
              "      <td>E15002965</td>\n",
              "      <td>2022-09-10 00:00:00</td>\n",
              "      <td>7</td>\n",
              "      <td>2.51</td>\n",
              "      <td>74.0</td>\n",
              "      <td>23.0</td>\n",
              "      <td>0.00</td>\n",
              "      <td>27.8</td>\n",
              "      <td>0.0</td>\n",
              "      <td>No Defect</td>\n",
              "      <td>240</td>\n",
              "      <td>09</td>\n",
              "      <td>10</td>\n",
              "    </tr>\n",
              "  </tbody>\n",
              "</table>\n",
              "</div>\n",
              "      <button class=\"colab-df-convert\" onclick=\"convertToInteractive('df-35379517-d014-4a1d-84bd-88b1f7606e2c')\"\n",
              "              title=\"Convert this dataframe to an interactive table.\"\n",
              "              style=\"display:none;\">\n",
              "        \n",
              "  <svg xmlns=\"http://www.w3.org/2000/svg\" height=\"24px\"viewBox=\"0 0 24 24\"\n",
              "       width=\"24px\">\n",
              "    <path d=\"M0 0h24v24H0V0z\" fill=\"none\"/>\n",
              "    <path d=\"M18.56 5.44l.94 2.06.94-2.06 2.06-.94-2.06-.94-.94-2.06-.94 2.06-2.06.94zm-11 1L8.5 8.5l.94-2.06 2.06-.94-2.06-.94L8.5 2.5l-.94 2.06-2.06.94zm10 10l.94 2.06.94-2.06 2.06-.94-2.06-.94-.94-2.06-.94 2.06-2.06.94z\"/><path d=\"M17.41 7.96l-1.37-1.37c-.4-.4-.92-.59-1.43-.59-.52 0-1.04.2-1.43.59L10.3 9.45l-7.72 7.72c-.78.78-.78 2.05 0 2.83L4 21.41c.39.39.9.59 1.41.59.51 0 1.02-.2 1.41-.59l7.78-7.78 2.81-2.81c.8-.78.8-2.07 0-2.86zM5.41 20L4 18.59l7.72-7.72 1.47 1.35L5.41 20z\"/>\n",
              "  </svg>\n",
              "      </button>\n",
              "      \n",
              "  <style>\n",
              "    .colab-df-container {\n",
              "      display:flex;\n",
              "      flex-wrap:wrap;\n",
              "      gap: 12px;\n",
              "    }\n",
              "\n",
              "    .colab-df-convert {\n",
              "      background-color: #E8F0FE;\n",
              "      border: none;\n",
              "      border-radius: 50%;\n",
              "      cursor: pointer;\n",
              "      display: none;\n",
              "      fill: #1967D2;\n",
              "      height: 32px;\n",
              "      padding: 0 0 0 0;\n",
              "      width: 32px;\n",
              "    }\n",
              "\n",
              "    .colab-df-convert:hover {\n",
              "      background-color: #E2EBFA;\n",
              "      box-shadow: 0px 1px 2px rgba(60, 64, 67, 0.3), 0px 1px 3px 1px rgba(60, 64, 67, 0.15);\n",
              "      fill: #174EA6;\n",
              "    }\n",
              "\n",
              "    [theme=dark] .colab-df-convert {\n",
              "      background-color: #3B4455;\n",
              "      fill: #D2E3FC;\n",
              "    }\n",
              "\n",
              "    [theme=dark] .colab-df-convert:hover {\n",
              "      background-color: #434B5C;\n",
              "      box-shadow: 0px 1px 3px 1px rgba(0, 0, 0, 0.15);\n",
              "      filter: drop-shadow(0px 1px 2px rgba(0, 0, 0, 0.3));\n",
              "      fill: #FFFFFF;\n",
              "    }\n",
              "  </style>\n",
              "\n",
              "      <script>\n",
              "        const buttonEl =\n",
              "          document.querySelector('#df-35379517-d014-4a1d-84bd-88b1f7606e2c button.colab-df-convert');\n",
              "        buttonEl.style.display =\n",
              "          google.colab.kernel.accessAllowed ? 'block' : 'none';\n",
              "\n",
              "        async function convertToInteractive(key) {\n",
              "          const element = document.querySelector('#df-35379517-d014-4a1d-84bd-88b1f7606e2c');\n",
              "          const dataTable =\n",
              "            await google.colab.kernel.invokeFunction('convertToInteractive',\n",
              "                                                     [key], {});\n",
              "          if (!dataTable) return;\n",
              "\n",
              "          const docLinkHtml = 'Like what you see? Visit the ' +\n",
              "            '<a target=\"_blank\" href=https://colab.research.google.com/notebooks/data_table.ipynb>data table notebook</a>'\n",
              "            + ' to learn more about interactive tables.';\n",
              "          element.innerHTML = '';\n",
              "          dataTable['output_type'] = 'display_data';\n",
              "          await google.colab.output.renderOutput(dataTable, element);\n",
              "          const docLink = document.createElement('div');\n",
              "          docLink.innerHTML = docLinkHtml;\n",
              "          element.appendChild(docLink);\n",
              "        }\n",
              "      </script>\n",
              "    </div>\n",
              "  </div>\n",
              "  "
            ]
          },
          "metadata": {},
          "execution_count": 28
        }
      ]
    },
    {
      "cell_type": "code",
      "source": [
        "l = ['Employee Code', 'Day','Month','Production', 'Time', 'Order', 'Current', 'Humidity','Temperature', 'Flow', 'Job Temp', 'Voltage', 'Defect']\n",
        "data = data[l]"
      ],
      "metadata": {
        "id": "vlnJNC0GHFEf"
      },
      "execution_count": null,
      "outputs": []
    },
    {
      "cell_type": "code",
      "source": [
        "cols = ['Employee Code', 'Day', 'Month', 'Production', 'Order']\n",
        "\n",
        "for col in cols:\n",
        "  print(col)\n",
        "  print(data[col].unique())\n",
        "  print(data[col].nunique())"
      ],
      "metadata": {
        "colab": {
          "base_uri": "https://localhost:8080/"
        },
        "id": "aXTaZWQCHOjF",
        "outputId": "fe6b3507-9cb8-4a08-b3c9-6dc74cb81612"
      },
      "execution_count": null,
      "outputs": [
        {
          "output_type": "stream",
          "name": "stdout",
          "text": [
            "Employee Code\n",
            "['382617' '391342' '97346' '0' '394965' '387268' '394365' '383138'\n",
            " '394269']\n",
            "9\n",
            "Day\n",
            "['10' '12' '13' '14' '15' '16' '17' '19' '30' '01' '02' '03' '05' '06'\n",
            " '07' '08' '09' '22' '23' '24' '25' '26' '27' '29']\n",
            "24\n",
            "Month\n",
            "['09' '08']\n",
            "2\n",
            "Production\n",
            "['E15002965' 'E15002966' 'Enan' 'E15003062' 'E15003220' 'E15002881'\n",
            " 'E10002436' 'E50006711' 'E15003200' 'E15003202' 'E15003056' 'E15002963'\n",
            " 'E10002437' 'E15003219' 'E15003201' 'Test coopan' 'E15003217'\n",
            " 'E150033027']\n",
            "18\n",
            "Order\n",
            "['240' '130' '180' '40' '30' '1']\n",
            "6\n"
          ]
        }
      ]
    },
    {
      "cell_type": "code",
      "source": [
        "\n",
        "data.to_csv('finalcleaned.csv')"
      ],
      "metadata": {
        "id": "4Ce1OxAQHUtc"
      },
      "execution_count": null,
      "outputs": []
    },
    {
      "cell_type": "code",
      "source": [],
      "metadata": {
        "id": "RsyqZ6qAHYWk"
      },
      "execution_count": null,
      "outputs": []
    },
    {
      "cell_type": "markdown",
      "source": [
        "**Model**"
      ],
      "metadata": {
        "id": "APBn2wqWHcTO"
      }
    },
    {
      "cell_type": "code",
      "source": [
        "df = data.copy()\n",
        "df.head()"
      ],
      "metadata": {
        "colab": {
          "base_uri": "https://localhost:8080/",
          "height": 206
        },
        "id": "uBc9u1eXHewQ",
        "outputId": "c7c91db0-a95e-4995-b00b-12c59fb358e3"
      },
      "execution_count": null,
      "outputs": [
        {
          "output_type": "execute_result",
          "data": {
            "text/plain": [
              "  Employee Code Day Month Production Time Order  Current  Humidity  \\\n",
              "1        382617  10    09  E15002965    7   240     1.13      74.0   \n",
              "2        382617  10    09  E15002965    7   240     1.82      74.0   \n",
              "3        382617  10    09  E15002965    7   240     2.91      74.0   \n",
              "4        382617  10    09  E15002965    7   240     0.04      74.0   \n",
              "5        382617  10    09  E15002965    7   240     2.51      74.0   \n",
              "\n",
              "   Temperature  Flow  Job Temp  Voltage              Defect  \n",
              "1         23.0  0.01      29.3     15.2           No Defect  \n",
              "2         23.0  0.00      29.3      0.0  Tungsten Inclusion  \n",
              "3         23.0  0.00      29.3      0.0           No Defect  \n",
              "4         23.0  0.00      29.3      0.0           No Defect  \n",
              "5         23.0  0.00      27.8      0.0           No Defect  "
            ],
            "text/html": [
              "\n",
              "  <div id=\"df-0bbf7359-5752-415f-ae75-9b5282c13e40\">\n",
              "    <div class=\"colab-df-container\">\n",
              "      <div>\n",
              "<style scoped>\n",
              "    .dataframe tbody tr th:only-of-type {\n",
              "        vertical-align: middle;\n",
              "    }\n",
              "\n",
              "    .dataframe tbody tr th {\n",
              "        vertical-align: top;\n",
              "    }\n",
              "\n",
              "    .dataframe thead th {\n",
              "        text-align: right;\n",
              "    }\n",
              "</style>\n",
              "<table border=\"1\" class=\"dataframe\">\n",
              "  <thead>\n",
              "    <tr style=\"text-align: right;\">\n",
              "      <th></th>\n",
              "      <th>Employee Code</th>\n",
              "      <th>Day</th>\n",
              "      <th>Month</th>\n",
              "      <th>Production</th>\n",
              "      <th>Time</th>\n",
              "      <th>Order</th>\n",
              "      <th>Current</th>\n",
              "      <th>Humidity</th>\n",
              "      <th>Temperature</th>\n",
              "      <th>Flow</th>\n",
              "      <th>Job Temp</th>\n",
              "      <th>Voltage</th>\n",
              "      <th>Defect</th>\n",
              "    </tr>\n",
              "  </thead>\n",
              "  <tbody>\n",
              "    <tr>\n",
              "      <th>1</th>\n",
              "      <td>382617</td>\n",
              "      <td>10</td>\n",
              "      <td>09</td>\n",
              "      <td>E15002965</td>\n",
              "      <td>7</td>\n",
              "      <td>240</td>\n",
              "      <td>1.13</td>\n",
              "      <td>74.0</td>\n",
              "      <td>23.0</td>\n",
              "      <td>0.01</td>\n",
              "      <td>29.3</td>\n",
              "      <td>15.2</td>\n",
              "      <td>No Defect</td>\n",
              "    </tr>\n",
              "    <tr>\n",
              "      <th>2</th>\n",
              "      <td>382617</td>\n",
              "      <td>10</td>\n",
              "      <td>09</td>\n",
              "      <td>E15002965</td>\n",
              "      <td>7</td>\n",
              "      <td>240</td>\n",
              "      <td>1.82</td>\n",
              "      <td>74.0</td>\n",
              "      <td>23.0</td>\n",
              "      <td>0.00</td>\n",
              "      <td>29.3</td>\n",
              "      <td>0.0</td>\n",
              "      <td>Tungsten Inclusion</td>\n",
              "    </tr>\n",
              "    <tr>\n",
              "      <th>3</th>\n",
              "      <td>382617</td>\n",
              "      <td>10</td>\n",
              "      <td>09</td>\n",
              "      <td>E15002965</td>\n",
              "      <td>7</td>\n",
              "      <td>240</td>\n",
              "      <td>2.91</td>\n",
              "      <td>74.0</td>\n",
              "      <td>23.0</td>\n",
              "      <td>0.00</td>\n",
              "      <td>29.3</td>\n",
              "      <td>0.0</td>\n",
              "      <td>No Defect</td>\n",
              "    </tr>\n",
              "    <tr>\n",
              "      <th>4</th>\n",
              "      <td>382617</td>\n",
              "      <td>10</td>\n",
              "      <td>09</td>\n",
              "      <td>E15002965</td>\n",
              "      <td>7</td>\n",
              "      <td>240</td>\n",
              "      <td>0.04</td>\n",
              "      <td>74.0</td>\n",
              "      <td>23.0</td>\n",
              "      <td>0.00</td>\n",
              "      <td>29.3</td>\n",
              "      <td>0.0</td>\n",
              "      <td>No Defect</td>\n",
              "    </tr>\n",
              "    <tr>\n",
              "      <th>5</th>\n",
              "      <td>382617</td>\n",
              "      <td>10</td>\n",
              "      <td>09</td>\n",
              "      <td>E15002965</td>\n",
              "      <td>7</td>\n",
              "      <td>240</td>\n",
              "      <td>2.51</td>\n",
              "      <td>74.0</td>\n",
              "      <td>23.0</td>\n",
              "      <td>0.00</td>\n",
              "      <td>27.8</td>\n",
              "      <td>0.0</td>\n",
              "      <td>No Defect</td>\n",
              "    </tr>\n",
              "  </tbody>\n",
              "</table>\n",
              "</div>\n",
              "      <button class=\"colab-df-convert\" onclick=\"convertToInteractive('df-0bbf7359-5752-415f-ae75-9b5282c13e40')\"\n",
              "              title=\"Convert this dataframe to an interactive table.\"\n",
              "              style=\"display:none;\">\n",
              "        \n",
              "  <svg xmlns=\"http://www.w3.org/2000/svg\" height=\"24px\"viewBox=\"0 0 24 24\"\n",
              "       width=\"24px\">\n",
              "    <path d=\"M0 0h24v24H0V0z\" fill=\"none\"/>\n",
              "    <path d=\"M18.56 5.44l.94 2.06.94-2.06 2.06-.94-2.06-.94-.94-2.06-.94 2.06-2.06.94zm-11 1L8.5 8.5l.94-2.06 2.06-.94-2.06-.94L8.5 2.5l-.94 2.06-2.06.94zm10 10l.94 2.06.94-2.06 2.06-.94-2.06-.94-.94-2.06-.94 2.06-2.06.94z\"/><path d=\"M17.41 7.96l-1.37-1.37c-.4-.4-.92-.59-1.43-.59-.52 0-1.04.2-1.43.59L10.3 9.45l-7.72 7.72c-.78.78-.78 2.05 0 2.83L4 21.41c.39.39.9.59 1.41.59.51 0 1.02-.2 1.41-.59l7.78-7.78 2.81-2.81c.8-.78.8-2.07 0-2.86zM5.41 20L4 18.59l7.72-7.72 1.47 1.35L5.41 20z\"/>\n",
              "  </svg>\n",
              "      </button>\n",
              "      \n",
              "  <style>\n",
              "    .colab-df-container {\n",
              "      display:flex;\n",
              "      flex-wrap:wrap;\n",
              "      gap: 12px;\n",
              "    }\n",
              "\n",
              "    .colab-df-convert {\n",
              "      background-color: #E8F0FE;\n",
              "      border: none;\n",
              "      border-radius: 50%;\n",
              "      cursor: pointer;\n",
              "      display: none;\n",
              "      fill: #1967D2;\n",
              "      height: 32px;\n",
              "      padding: 0 0 0 0;\n",
              "      width: 32px;\n",
              "    }\n",
              "\n",
              "    .colab-df-convert:hover {\n",
              "      background-color: #E2EBFA;\n",
              "      box-shadow: 0px 1px 2px rgba(60, 64, 67, 0.3), 0px 1px 3px 1px rgba(60, 64, 67, 0.15);\n",
              "      fill: #174EA6;\n",
              "    }\n",
              "\n",
              "    [theme=dark] .colab-df-convert {\n",
              "      background-color: #3B4455;\n",
              "      fill: #D2E3FC;\n",
              "    }\n",
              "\n",
              "    [theme=dark] .colab-df-convert:hover {\n",
              "      background-color: #434B5C;\n",
              "      box-shadow: 0px 1px 3px 1px rgba(0, 0, 0, 0.15);\n",
              "      filter: drop-shadow(0px 1px 2px rgba(0, 0, 0, 0.3));\n",
              "      fill: #FFFFFF;\n",
              "    }\n",
              "  </style>\n",
              "\n",
              "      <script>\n",
              "        const buttonEl =\n",
              "          document.querySelector('#df-0bbf7359-5752-415f-ae75-9b5282c13e40 button.colab-df-convert');\n",
              "        buttonEl.style.display =\n",
              "          google.colab.kernel.accessAllowed ? 'block' : 'none';\n",
              "\n",
              "        async function convertToInteractive(key) {\n",
              "          const element = document.querySelector('#df-0bbf7359-5752-415f-ae75-9b5282c13e40');\n",
              "          const dataTable =\n",
              "            await google.colab.kernel.invokeFunction('convertToInteractive',\n",
              "                                                     [key], {});\n",
              "          if (!dataTable) return;\n",
              "\n",
              "          const docLinkHtml = 'Like what you see? Visit the ' +\n",
              "            '<a target=\"_blank\" href=https://colab.research.google.com/notebooks/data_table.ipynb>data table notebook</a>'\n",
              "            + ' to learn more about interactive tables.';\n",
              "          element.innerHTML = '';\n",
              "          dataTable['output_type'] = 'display_data';\n",
              "          await google.colab.output.renderOutput(dataTable, element);\n",
              "          const docLink = document.createElement('div');\n",
              "          docLink.innerHTML = docLinkHtml;\n",
              "          element.appendChild(docLink);\n",
              "        }\n",
              "      </script>\n",
              "    </div>\n",
              "  </div>\n",
              "  "
            ]
          },
          "metadata": {},
          "execution_count": 32
        }
      ]
    },
    {
      "cell_type": "code",
      "source": [
        "def time(x):\n",
        "  if int(x) < 7 or int(x) ==23:\n",
        "    return 0\n",
        "  else:\n",
        "    return 1\n",
        "\n",
        "df['Time'] = df['Time'].apply(time)"
      ],
      "metadata": {
        "id": "4SD2ZXmGHhIh"
      },
      "execution_count": null,
      "outputs": []
    },
    {
      "cell_type": "code",
      "source": [
        "cat_col = ['Employee Code', 'Day', 'Month', 'Production', 'Order']\n",
        "\n",
        "for col in cat_col:\n",
        "  df[col] = df[col].astype('category').cat.codes\n",
        "\n"
      ],
      "metadata": {
        "id": "eEBUS3dTHk-1"
      },
      "execution_count": null,
      "outputs": []
    },
    {
      "cell_type": "code",
      "source": [
        "LE=LabelEncoder()\n",
        "LE.fit_transform(df['Defect'])"
      ],
      "metadata": {
        "colab": {
          "base_uri": "https://localhost:8080/"
        },
        "id": "RDGXPCp4HpEE",
        "outputId": "87506854-7da2-4312-b020-30b5234a36a6"
      },
      "execution_count": null,
      "outputs": [
        {
          "output_type": "execute_result",
          "data": {
            "text/plain": [
              "array([0, 2, 0, ..., 0, 0, 0])"
            ]
          },
          "metadata": {},
          "execution_count": 35
        }
      ]
    },
    {
      "cell_type": "code",
      "source": [
        "df.info()"
      ],
      "metadata": {
        "colab": {
          "base_uri": "https://localhost:8080/"
        },
        "id": "Fy2obJtGHq4D",
        "outputId": "e859ebe5-5816-4f00-c0e9-9968075a5bb8"
      },
      "execution_count": null,
      "outputs": [
        {
          "output_type": "stream",
          "name": "stdout",
          "text": [
            "<class 'pandas.core.frame.DataFrame'>\n",
            "Int64Index: 826794 entries, 1 to 827534\n",
            "Data columns (total 13 columns):\n",
            " #   Column         Non-Null Count   Dtype  \n",
            "---  ------         --------------   -----  \n",
            " 0   Employee Code  826794 non-null  int8   \n",
            " 1   Day            826794 non-null  int8   \n",
            " 2   Month          826794 non-null  int8   \n",
            " 3   Production     826794 non-null  int8   \n",
            " 4   Time           826794 non-null  int64  \n",
            " 5   Order          826794 non-null  int8   \n",
            " 6   Current        826794 non-null  float64\n",
            " 7   Humidity       826794 non-null  float64\n",
            " 8   Temperature    826794 non-null  float64\n",
            " 9   Flow           826794 non-null  float64\n",
            " 10  Job Temp       826794 non-null  float64\n",
            " 11  Voltage        826794 non-null  float64\n",
            " 12  Defect         826794 non-null  object \n",
            "dtypes: float64(6), int64(1), int8(5), object(1)\n",
            "memory usage: 60.7+ MB\n"
          ]
        }
      ]
    },
    {
      "cell_type": "code",
      "source": [
        "scaler = StandardScaler()\n",
        "df[['Current', 'Humidity', 'Temperature', 'Flow', 'Job Temp', 'Voltage']] = scaler.fit_transform(df[['Current', 'Humidity', 'Temperature', 'Flow', 'Job Temp', 'Voltage']])\n"
      ],
      "metadata": {
        "id": "YggxZCNoHuGk"
      },
      "execution_count": null,
      "outputs": []
    },
    {
      "cell_type": "code",
      "source": [
        "df['Defect'] = df['Defect'].astype('category').cat.codes"
      ],
      "metadata": {
        "id": "4Vl9xp7ZH068"
      },
      "execution_count": null,
      "outputs": []
    },
    {
      "cell_type": "code",
      "source": [
        "def get_features(threshold,X,Y):\n",
        "  high_score_features = []\n",
        "  feature_scores = mutual_info_classif(X, Y, random_state=0)\n",
        "  for score, f_name in sorted(zip(feature_scores, df.columns), reverse=True)[:threshold]:\n",
        "          print(f_name, score)\n",
        "          high_score_features.append(f_name)\n",
        "  df_norm_mic = df[high_score_features]\n",
        "  return df_norm_mic.columns"
      ],
      "metadata": {
        "id": "wazlsiStH4xD"
      },
      "execution_count": null,
      "outputs": []
    },
    {
      "cell_type": "code",
      "source": [
        "X = df.drop(columns='Defect', axis=1)\n",
        "Y = df['Defect']"
      ],
      "metadata": {
        "id": "125Gvj6FIXys"
      },
      "execution_count": null,
      "outputs": []
    },
    {
      "cell_type": "markdown",
      "source": [
        "**7 Features**"
      ],
      "metadata": {
        "id": "yay3G3YFIxBs"
      }
    },
    {
      "cell_type": "code",
      "source": [
        "features = get_features(7, X, Y)"
      ],
      "metadata": {
        "colab": {
          "base_uri": "https://localhost:8080/"
        },
        "id": "OyoXaLaIITGM",
        "outputId": "fe498648-f7f8-4bb2-ff74-14d8418250fc"
      },
      "execution_count": null,
      "outputs": [
        {
          "output_type": "stream",
          "name": "stdout",
          "text": [
            "Time 0.1657713820486576\n",
            "Month 0.10447297148833401\n",
            "Order 0.08282620346482006\n",
            "Voltage 0.07729444434297972\n",
            "Production 0.038352677883428665\n",
            "Employee Code 0.03810009811269088\n",
            "Flow 0.027001835760245174\n"
          ]
        }
      ]
    },
    {
      "cell_type": "code",
      "source": [
        "sel_features = list(features)\n",
        "\n",
        "sel_X = X[sel_features]"
      ],
      "metadata": {
        "id": "Q1VaJZxXIp38"
      },
      "execution_count": null,
      "outputs": []
    },
    {
      "cell_type": "code",
      "source": [
        "sampler = RandomOverSampler(random_state=42)\n",
        "x_ros, y_ros = sampler.fit_resample(sel_X, Y)\n"
      ],
      "metadata": {
        "id": "9fJra8DeJMd7"
      },
      "execution_count": null,
      "outputs": []
    },
    {
      "cell_type": "code",
      "source": [
        "ros_df = pd.concat([x_ros,y_ros], axis=1)"
      ],
      "metadata": {
        "id": "-egpBzURJR6m"
      },
      "execution_count": null,
      "outputs": []
    },
    {
      "cell_type": "code",
      "source": [
        "from sklearn.model_selection import train_test_split\n",
        "X = ros_df.drop(columns='Defect', axis=1)\n",
        "Y = ros_df['Defect']\n",
        "Xt,x,Yt,y = train_test_split(X,Y)"
      ],
      "metadata": {
        "id": "7NUL8FWQJY8V"
      },
      "execution_count": null,
      "outputs": []
    },
    {
      "cell_type": "code",
      "source": [
        "model = RandomForestClassifier()\n",
        "model.fit(Xt,Yt)"
      ],
      "metadata": {
        "colab": {
          "base_uri": "https://localhost:8080/"
        },
        "id": "AETkUxWOJ5Rc",
        "outputId": "e7f9b6e5-a5d4-4a7f-8a6e-bb7082bf0f00"
      },
      "execution_count": null,
      "outputs": [
        {
          "output_type": "execute_result",
          "data": {
            "text/plain": [
              "RandomForestClassifier()"
            ]
          },
          "metadata": {},
          "execution_count": 47
        }
      ]
    },
    {
      "cell_type": "code",
      "source": [
        "preds = model.predict(x)\n",
        "print(classification_report(y,preds))"
      ],
      "metadata": {
        "colab": {
          "base_uri": "https://localhost:8080/"
        },
        "id": "CyfRPlxJKEQ1",
        "outputId": "b3ef943f-44c4-46bd-9378-a39b48b9fb6e"
      },
      "execution_count": null,
      "outputs": [
        {
          "output_type": "stream",
          "name": "stdout",
          "text": [
            "              precision    recall  f1-score   support\n",
            "\n",
            "           0       0.89      0.72      0.79    205304\n",
            "           1       0.77      0.93      0.84    205036\n",
            "           2       0.99      0.96      0.98    205441\n",
            "\n",
            "    accuracy                           0.87    615781\n",
            "   macro avg       0.88      0.87      0.87    615781\n",
            "weighted avg       0.88      0.87      0.87    615781\n",
            "\n"
          ]
        }
      ]
    },
    {
      "cell_type": "markdown",
      "source": [
        "**8 features**"
      ],
      "metadata": {
        "id": "Yv-QbxVDMORM"
      }
    },
    {
      "cell_type": "code",
      "source": [
        "X = df.drop(columns='Defect', axis=1)\n",
        "Y = df['Defect']"
      ],
      "metadata": {
        "id": "AQ8vdO2pMSl3"
      },
      "execution_count": null,
      "outputs": []
    },
    {
      "cell_type": "code",
      "source": [
        "features = get_features(8, X, Y)"
      ],
      "metadata": {
        "colab": {
          "base_uri": "https://localhost:8080/"
        },
        "id": "3rV_Rt2TMQ5j",
        "outputId": "c92aad54-55b3-47d2-fca5-fd65b8dbe9b8"
      },
      "execution_count": null,
      "outputs": [
        {
          "output_type": "stream",
          "name": "stdout",
          "text": [
            "Time 0.1657713820486576\n",
            "Month 0.10447297148833401\n",
            "Order 0.08282620346482006\n",
            "Voltage 0.07729444434297972\n",
            "Production 0.038352677883428665\n",
            "Employee Code 0.03810009811269088\n",
            "Flow 0.027001835760245174\n",
            "Day 0.010044938870972464\n"
          ]
        }
      ]
    },
    {
      "cell_type": "code",
      "source": [
        "sel_features = list(features)\n",
        "sampler = RandomOverSampler(random_state=42)\n",
        "x_ros, y_ros = sampler.fit_resample(X[sel_features], Y)\n",
        "ros_df = pd.concat([x_ros,y_ros], axis=1)"
      ],
      "metadata": {
        "id": "nSTjozo_MY5p"
      },
      "execution_count": null,
      "outputs": []
    },
    {
      "cell_type": "code",
      "source": [
        "X = ros_df.drop(columns='Defect', axis=1)\n",
        "Y = ros_df['Defect']\n",
        "Xt,x,Yt,y = train_test_split(X,Y)"
      ],
      "metadata": {
        "id": "vF7AEpkPMo6g"
      },
      "execution_count": null,
      "outputs": []
    },
    {
      "cell_type": "code",
      "source": [
        "model = RandomForestClassifier()\n",
        "model.fit(Xt,Yt)"
      ],
      "metadata": {
        "colab": {
          "base_uri": "https://localhost:8080/"
        },
        "id": "QM3keYVcMrhe",
        "outputId": "b6b5925b-2dd2-4364-c49f-e4d4e288c8c3"
      },
      "execution_count": null,
      "outputs": [
        {
          "output_type": "execute_result",
          "data": {
            "text/plain": [
              "RandomForestClassifier()"
            ]
          },
          "metadata": {},
          "execution_count": 53
        }
      ]
    },
    {
      "cell_type": "code",
      "source": [
        "preds = model.predict(x)\n",
        "print(classification_report(y,preds))"
      ],
      "metadata": {
        "colab": {
          "base_uri": "https://localhost:8080/"
        },
        "id": "QpBc_R8hMs5K",
        "outputId": "6ce628c6-98c8-41c6-f311-c884f33f9db6"
      },
      "execution_count": null,
      "outputs": [
        {
          "output_type": "stream",
          "name": "stdout",
          "text": [
            "              precision    recall  f1-score   support\n",
            "\n",
            "           0       0.91      0.73      0.81    205489\n",
            "           1       0.78      0.94      0.85    205065\n",
            "           2       0.99      0.97      0.98    205227\n",
            "\n",
            "    accuracy                           0.88    615781\n",
            "   macro avg       0.89      0.88      0.88    615781\n",
            "weighted avg       0.89      0.88      0.88    615781\n",
            "\n"
          ]
        }
      ]
    },
    {
      "cell_type": "code",
      "source": [
        "accuracy_score(y, preds)"
      ],
      "metadata": {
        "colab": {
          "base_uri": "https://localhost:8080/"
        },
        "id": "XliMxhzlOZ8s",
        "outputId": "112f5880-f5ee-437f-89d5-0c8e3b386435"
      },
      "execution_count": null,
      "outputs": [
        {
          "output_type": "execute_result",
          "data": {
            "text/plain": [
              "0.8792720139140376"
            ]
          },
          "metadata": {},
          "execution_count": 55
        }
      ]
    },
    {
      "cell_type": "code",
      "source": [],
      "metadata": {
        "id": "Z0EbRkXMOcGt"
      },
      "execution_count": null,
      "outputs": []
    },
    {
      "cell_type": "markdown",
      "source": [
        "**9 Features**"
      ],
      "metadata": {
        "id": "xYNXWe5ep5l0"
      }
    },
    {
      "cell_type": "code",
      "source": [
        "X = df.drop(columns='Defect', axis=1)\n",
        "Y = df['Defect']\n",
        "\n",
        "features = get_features(9, X, Y)"
      ],
      "metadata": {
        "colab": {
          "base_uri": "https://localhost:8080/"
        },
        "id": "AeSClgf3p745",
        "outputId": "7b758689-ed80-4df8-871c-7d627de3698f"
      },
      "execution_count": null,
      "outputs": [
        {
          "output_type": "stream",
          "name": "stdout",
          "text": [
            "Time 0.1657713820486576\n",
            "Month 0.10447297148833401\n",
            "Order 0.08282620346482006\n",
            "Voltage 0.07729444434297972\n",
            "Production 0.038352677883428665\n",
            "Employee Code 0.03810009811269088\n",
            "Flow 0.027001835760245174\n",
            "Day 0.010044938870972464\n",
            "Temperature 0.008722694403340281\n"
          ]
        }
      ]
    },
    {
      "cell_type": "code",
      "source": [
        "\n",
        "sel_features = list(features)\n",
        "sampler = RandomOverSampler(random_state=42)\n",
        "x_ros, y_ros = sampler.fit_resample(X[sel_features], Y)\n",
        "ros_df = pd.concat([x_ros,y_ros], axis=1)"
      ],
      "metadata": {
        "id": "ayNCoZR1qDyC"
      },
      "execution_count": null,
      "outputs": []
    },
    {
      "cell_type": "code",
      "source": [
        "from sklearn.model_selection import train_test_split\n",
        "X = ros_df.drop(columns='Defect', axis=1)\n",
        "Y = ros_df['Defect']\n",
        "Xt,x,Yt,y = train_test_split(X,Y)"
      ],
      "metadata": {
        "id": "1mqzMM_YqGfq"
      },
      "execution_count": null,
      "outputs": []
    },
    {
      "cell_type": "code",
      "source": [
        "model = RandomForestClassifier()\n",
        "model.fit(Xt,Yt)"
      ],
      "metadata": {
        "colab": {
          "base_uri": "https://localhost:8080/"
        },
        "id": "gghSUaCAqIa-",
        "outputId": "e1791b7f-f6bf-4c49-f9ac-184fd994167d"
      },
      "execution_count": null,
      "outputs": [
        {
          "output_type": "execute_result",
          "data": {
            "text/plain": [
              "RandomForestClassifier()"
            ]
          },
          "metadata": {},
          "execution_count": 44
        }
      ]
    },
    {
      "cell_type": "code",
      "source": [
        "preds = model.predict(x)\n",
        "print(classification_report(y,preds))"
      ],
      "metadata": {
        "colab": {
          "base_uri": "https://localhost:8080/"
        },
        "id": "qc9DNIl0qI9n",
        "outputId": "5100e95a-a635-4e7a-fadd-fd5969c1d206"
      },
      "execution_count": null,
      "outputs": [
        {
          "output_type": "stream",
          "name": "stdout",
          "text": [
            "              precision    recall  f1-score   support\n",
            "\n",
            "           0       0.90      0.80      0.85    205597\n",
            "           1       0.83      0.93      0.88    204682\n",
            "           2       0.99      0.97      0.98    205502\n",
            "\n",
            "    accuracy                           0.90    615781\n",
            "   macro avg       0.91      0.90      0.90    615781\n",
            "weighted avg       0.91      0.90      0.90    615781\n",
            "\n"
          ]
        }
      ]
    },
    {
      "cell_type": "code",
      "source": [
        "accuracy_score(y,preds)"
      ],
      "metadata": {
        "colab": {
          "base_uri": "https://localhost:8080/"
        },
        "id": "gEXQtITRrp0H",
        "outputId": "31bc6844-48ab-4c1f-e43d-f6bdf14fade5"
      },
      "execution_count": null,
      "outputs": [
        {
          "output_type": "execute_result",
          "data": {
            "text/plain": [
              "0.901817366888553"
            ]
          },
          "metadata": {},
          "execution_count": 48
        }
      ]
    },
    {
      "cell_type": "code",
      "source": [],
      "metadata": {
        "id": "8JmP_3ukr2fm"
      },
      "execution_count": null,
      "outputs": []
    },
    {
      "cell_type": "markdown",
      "source": [
        "**12 Features**"
      ],
      "metadata": {
        "id": "sptbabARsEjX"
      }
    },
    {
      "cell_type": "code",
      "source": [
        "X = df.drop(columns='Defect', axis=1)\n",
        "Y = df['Defect']\n",
        "\n",
        "features = get_features(12, X, Y)"
      ],
      "metadata": {
        "colab": {
          "base_uri": "https://localhost:8080/"
        },
        "id": "FrsBl4DPsG5v",
        "outputId": "08d53c77-e5e3-4220-faae-d2ece12e2529"
      },
      "execution_count": null,
      "outputs": [
        {
          "output_type": "stream",
          "name": "stdout",
          "text": [
            "Time 0.1657713820486576\n",
            "Month 0.10447297148833401\n",
            "Order 0.08282620346482006\n",
            "Voltage 0.07729444434297972\n",
            "Production 0.038352677883428665\n",
            "Employee Code 0.03810009811269088\n",
            "Flow 0.027001835760245174\n",
            "Day 0.010044938870972464\n",
            "Temperature 0.008722694403340281\n",
            "Current 0.0044096511055148335\n",
            "Humidity 0.0034654714536641595\n",
            "Job Temp 0.0031161617940070885\n"
          ]
        }
      ]
    },
    {
      "cell_type": "code",
      "source": [
        "\n",
        "sel_features = list(features)\n",
        "sampler = RandomOverSampler(random_state=42)\n",
        "x_ros, y_ros = sampler.fit_resample(X[sel_features], Y)\n",
        "ros_df = pd.concat([x_ros,y_ros], axis=1)"
      ],
      "metadata": {
        "id": "bTcDokCisLPc"
      },
      "execution_count": null,
      "outputs": []
    },
    {
      "cell_type": "code",
      "source": [
        "from sklearn.model_selection import train_test_split\n",
        "X = ros_df.drop(columns='Defect', axis=1)\n",
        "Y = ros_df['Defect']\n",
        "Xt,x,Yt,y = train_test_split(X,Y)"
      ],
      "metadata": {
        "id": "PGWb2UTtsL0j"
      },
      "execution_count": null,
      "outputs": []
    },
    {
      "cell_type": "code",
      "source": [
        "model = RandomForestClassifier()\n",
        "model.fit(Xt,Yt)"
      ],
      "metadata": {
        "colab": {
          "base_uri": "https://localhost:8080/"
        },
        "id": "n6j4BWu6sNfy",
        "outputId": "d64060f4-1108-4dd3-8c4a-22fd5b1259c7"
      },
      "execution_count": null,
      "outputs": [
        {
          "output_type": "execute_result",
          "data": {
            "text/plain": [
              "RandomForestClassifier()"
            ]
          },
          "metadata": {},
          "execution_count": 43
        }
      ]
    },
    {
      "cell_type": "code",
      "source": [
        "preds = model.predict(x)\n",
        "print(classification_report(y,preds))"
      ],
      "metadata": {
        "colab": {
          "base_uri": "https://localhost:8080/"
        },
        "id": "ZCPiq316sPQ3",
        "outputId": "2ac07edd-2186-44cd-b5c7-a6336adfa293"
      },
      "execution_count": null,
      "outputs": [
        {
          "output_type": "stream",
          "name": "stdout",
          "text": [
            "              precision    recall  f1-score   support\n",
            "\n",
            "           0       1.00      1.00      1.00    204900\n",
            "           1       1.00      1.00      1.00    205349\n",
            "           2       1.00      1.00      1.00    205532\n",
            "\n",
            "    accuracy                           1.00    615781\n",
            "   macro avg       1.00      1.00      1.00    615781\n",
            "weighted avg       1.00      1.00      1.00    615781\n",
            "\n"
          ]
        }
      ]
    },
    {
      "cell_type": "code",
      "source": [
        "accuracy_score(y,preds)"
      ],
      "metadata": {
        "colab": {
          "base_uri": "https://localhost:8080/"
        },
        "id": "8RHMtMsQt8O0",
        "outputId": "e0a1dc4e-b9b8-4d8f-da09-55ab951808f6"
      },
      "execution_count": null,
      "outputs": [
        {
          "output_type": "execute_result",
          "data": {
            "text/plain": [
              "0.9993877693530655"
            ]
          },
          "metadata": {},
          "execution_count": 45
        }
      ]
    },
    {
      "cell_type": "code",
      "source": [
        "from joblib import Parallel, delayed\n",
        "import joblib\n",
        "\n",
        "joblib.dump(model, 'model.pkl')\n"
      ],
      "metadata": {
        "id": "Lsb_qRituKq9",
        "colab": {
          "base_uri": "https://localhost:8080/"
        },
        "outputId": "0d10bb9b-0919-42f8-f21c-0f74c3e54a54"
      },
      "execution_count": null,
      "outputs": [
        {
          "output_type": "execute_result",
          "data": {
            "text/plain": [
              "['model.pkl']"
            ]
          },
          "metadata": {},
          "execution_count": 46
        }
      ]
    },
    {
      "cell_type": "code",
      "source": [
        "rfc = joblib.load('model.pkl')\n",
        "rfc.predict(x)"
      ],
      "metadata": {
        "colab": {
          "base_uri": "https://localhost:8080/"
        },
        "id": "eA6J7AmQDdjb",
        "outputId": "138eb15f-7245-42c6-c9b7-81c964fbcec0"
      },
      "execution_count": null,
      "outputs": [
        {
          "output_type": "execute_result",
          "data": {
            "text/plain": [
              "array([2, 2, 2, ..., 1, 2, 2], dtype=int8)"
            ]
          },
          "metadata": {},
          "execution_count": 47
        }
      ]
    },
    {
      "cell_type": "code",
      "source": [],
      "metadata": {
        "id": "gaozjGr3EgHG"
      },
      "execution_count": null,
      "outputs": []
    }
  ]
}